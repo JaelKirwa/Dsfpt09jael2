{
 "cells": [
  {
   "cell_type": "markdown",
   "metadata": {},
   "source": [
    "# Phase 2 project\n",
    "\n",
    "This note book is designed to analyse data from the six different movie companies and decide which is best type of content the users consume for a company that is new to the movie making scene.\n",
    "\n",
    "The analysis will be done in-order to answer the following questions:\n",
    "\n",
    "* Which are the best performing movies categories to produce?\n",
    "* Which demographics watch movies ?\n",
    "* What each demographic prefer to watch ?\n",
    "\n",
    "Specifically, this will cover:\n",
    "\n",
    "* Using pandas to filter data\n",
    "* Using scipy.stats to calcluate probalility and find suitability of data for recommendation\n",
    "\n",
    "The analysis will divide each data source to a module within a note book. Data cleaning will done comprehensively then afterwords model will be selected to analysis the data so us to answer the business questions above.The modules are:\n",
    "\n",
    " #### 1 BOM movie company analysis\n",
    " #### 2 \n"
   ]
  },
  {
   "cell_type": "markdown",
   "metadata": {},
   "source": [
    "## Movie Budget Analysis"
   ]
  },
  {
   "cell_type": "code",
   "execution_count": 1,
   "metadata": {},
   "outputs": [],
   "source": [
    "#Import the necessary libraries\n",
    "\n",
    "import pandas as pd\n",
    "import matplotlib.pyplot as plt\n",
    "import seaborn as sns\n",
    "%matplotlib inline"
   ]
  },
  {
   "cell_type": "code",
   "execution_count": 2,
   "metadata": {},
   "outputs": [
    {
     "data": {
      "text/html": [
       "<div>\n",
       "<style scoped>\n",
       "    .dataframe tbody tr th:only-of-type {\n",
       "        vertical-align: middle;\n",
       "    }\n",
       "\n",
       "    .dataframe tbody tr th {\n",
       "        vertical-align: top;\n",
       "    }\n",
       "\n",
       "    .dataframe thead th {\n",
       "        text-align: right;\n",
       "    }\n",
       "</style>\n",
       "<table border=\"1\" class=\"dataframe\">\n",
       "  <thead>\n",
       "    <tr style=\"text-align: right;\">\n",
       "      <th></th>\n",
       "      <th>id</th>\n",
       "      <th>release_date</th>\n",
       "      <th>movie</th>\n",
       "      <th>production_budget</th>\n",
       "      <th>domestic_gross</th>\n",
       "      <th>worldwide_gross</th>\n",
       "    </tr>\n",
       "  </thead>\n",
       "  <tbody>\n",
       "    <tr>\n",
       "      <th>0</th>\n",
       "      <td>1</td>\n",
       "      <td>Dec 18, 2009</td>\n",
       "      <td>Avatar</td>\n",
       "      <td>$425,000,000</td>\n",
       "      <td>$760,507,625</td>\n",
       "      <td>$2,776,345,279</td>\n",
       "    </tr>\n",
       "    <tr>\n",
       "      <th>1</th>\n",
       "      <td>2</td>\n",
       "      <td>May 20, 2011</td>\n",
       "      <td>Pirates of the Caribbean: On Stranger Tides</td>\n",
       "      <td>$410,600,000</td>\n",
       "      <td>$241,063,875</td>\n",
       "      <td>$1,045,663,875</td>\n",
       "    </tr>\n",
       "    <tr>\n",
       "      <th>2</th>\n",
       "      <td>3</td>\n",
       "      <td>Jun 7, 2019</td>\n",
       "      <td>Dark Phoenix</td>\n",
       "      <td>$350,000,000</td>\n",
       "      <td>$42,762,350</td>\n",
       "      <td>$149,762,350</td>\n",
       "    </tr>\n",
       "    <tr>\n",
       "      <th>3</th>\n",
       "      <td>4</td>\n",
       "      <td>May 1, 2015</td>\n",
       "      <td>Avengers: Age of Ultron</td>\n",
       "      <td>$330,600,000</td>\n",
       "      <td>$459,005,868</td>\n",
       "      <td>$1,403,013,963</td>\n",
       "    </tr>\n",
       "    <tr>\n",
       "      <th>4</th>\n",
       "      <td>5</td>\n",
       "      <td>Dec 15, 2017</td>\n",
       "      <td>Star Wars Ep. VIII: The Last Jedi</td>\n",
       "      <td>$317,000,000</td>\n",
       "      <td>$620,181,382</td>\n",
       "      <td>$1,316,721,747</td>\n",
       "    </tr>\n",
       "  </tbody>\n",
       "</table>\n",
       "</div>"
      ],
      "text/plain": [
       "   id  release_date                                        movie  \\\n",
       "0   1  Dec 18, 2009                                       Avatar   \n",
       "1   2  May 20, 2011  Pirates of the Caribbean: On Stranger Tides   \n",
       "2   3   Jun 7, 2019                                 Dark Phoenix   \n",
       "3   4   May 1, 2015                      Avengers: Age of Ultron   \n",
       "4   5  Dec 15, 2017            Star Wars Ep. VIII: The Last Jedi   \n",
       "\n",
       "  production_budget domestic_gross worldwide_gross  \n",
       "0      $425,000,000   $760,507,625  $2,776,345,279  \n",
       "1      $410,600,000   $241,063,875  $1,045,663,875  \n",
       "2      $350,000,000    $42,762,350    $149,762,350  \n",
       "3      $330,600,000   $459,005,868  $1,403,013,963  \n",
       "4      $317,000,000   $620,181,382  $1,316,721,747  "
      ]
     },
     "execution_count": 2,
     "metadata": {},
     "output_type": "execute_result"
    }
   ],
   "source": [
    "#Import data from the datasource using pandas and showing the first 5 columns\n",
    "df_movie_budgets=pd.read_csv('tn_movie_budgets.csv')\n",
    "df_movie_budgets.head()"
   ]
  },
  {
   "cell_type": "code",
   "execution_count": 3,
   "metadata": {},
   "outputs": [
    {
     "name": "stdout",
     "output_type": "stream",
     "text": [
      "<class 'pandas.core.frame.DataFrame'>\n",
      "RangeIndex: 5782 entries, 0 to 5781\n",
      "Data columns (total 6 columns):\n",
      " #   Column             Non-Null Count  Dtype \n",
      "---  ------             --------------  ----- \n",
      " 0   id                 5782 non-null   int64 \n",
      " 1   release_date       5782 non-null   object\n",
      " 2   movie              5782 non-null   object\n",
      " 3   production_budget  5782 non-null   object\n",
      " 4   domestic_gross     5782 non-null   object\n",
      " 5   worldwide_gross    5782 non-null   object\n",
      "dtypes: int64(1), object(5)\n",
      "memory usage: 271.2+ KB\n"
     ]
    }
   ],
   "source": [
    "# Getting more info about the data to gain a better understanding \n",
    "df_movie_budgets.info()"
   ]
  },
  {
   "cell_type": "markdown",
   "metadata": {},
   "source": [
    "#### Data EDA and cleanup\n",
    "From the info gotten above, we can see that the dataset has 5782 rows and 6 columns.\n",
    "\n",
    "In the cell below we will check for null/missing values and duplicate values from the datasource.\n",
    "\n",
    "In the production_budget, domestic_gross and worldwide_gross columns, I will remove currency sign and commas to make them fully numeric"
   ]
  },
  {
   "cell_type": "code",
   "execution_count": 4,
   "metadata": {},
   "outputs": [
    {
     "name": "stdout",
     "output_type": "stream",
     "text": [
      "id                   0\n",
      "release_date         0\n",
      "movie                0\n",
      "production_budget    0\n",
      "domestic_gross       0\n",
      "worldwide_gross      0\n",
      "dtype: int64\n"
     ]
    }
   ],
   "source": [
    "# Checking for null values\n",
    "na_values = df_movie_budgets.isnull().sum()\n",
    "print(na_values)\n",
    "\n",
    "# The data source has no null values on any of the columns"
   ]
  },
  {
   "cell_type": "code",
   "execution_count": 5,
   "metadata": {},
   "outputs": [
    {
     "name": "stdout",
     "output_type": "stream",
     "text": [
      "id                   0.0\n",
      "release_date         0.0\n",
      "movie                0.0\n",
      "production_budget    0.0\n",
      "domestic_gross       0.0\n",
      "worldwide_gross      0.0\n",
      "dtype: float64\n"
     ]
    }
   ],
   "source": [
    "# Checking for duplicate values\n",
    "duplicates = df_movie_budgets[df_movie_budgets.duplicated()].sum()\n",
    "print(duplicates)\n",
    "\n",
    "#from the analysis seen below the data also has no duplicate values"
   ]
  },
  {
   "cell_type": "markdown",
   "metadata": {},
   "source": [
    "I will combine both the domestic gross income and worldwide gross income into a new column called total gross income and this will form the basis of our analysis later\n"
   ]
  },
  {
   "cell_type": "code",
   "execution_count": 6,
   "metadata": {},
   "outputs": [
    {
     "data": {
      "text/html": [
       "<div>\n",
       "<style scoped>\n",
       "    .dataframe tbody tr th:only-of-type {\n",
       "        vertical-align: middle;\n",
       "    }\n",
       "\n",
       "    .dataframe tbody tr th {\n",
       "        vertical-align: top;\n",
       "    }\n",
       "\n",
       "    .dataframe thead th {\n",
       "        text-align: right;\n",
       "    }\n",
       "</style>\n",
       "<table border=\"1\" class=\"dataframe\">\n",
       "  <thead>\n",
       "    <tr style=\"text-align: right;\">\n",
       "      <th></th>\n",
       "      <th>id</th>\n",
       "      <th>release_date</th>\n",
       "      <th>movie</th>\n",
       "      <th>production_budget</th>\n",
       "      <th>domestic_gross</th>\n",
       "      <th>worldwide_gross</th>\n",
       "      <th>total_gross_income</th>\n",
       "    </tr>\n",
       "  </thead>\n",
       "  <tbody>\n",
       "    <tr>\n",
       "      <th>0</th>\n",
       "      <td>1</td>\n",
       "      <td>Dec 18, 2009</td>\n",
       "      <td>Avatar</td>\n",
       "      <td>425000000.00</td>\n",
       "      <td>760507625.00</td>\n",
       "      <td>2776345279.00</td>\n",
       "      <td>3536852904.00</td>\n",
       "    </tr>\n",
       "    <tr>\n",
       "      <th>1</th>\n",
       "      <td>2</td>\n",
       "      <td>May 20, 2011</td>\n",
       "      <td>Pirates of the Caribbean: On Stranger Tides</td>\n",
       "      <td>410600000.00</td>\n",
       "      <td>241063875.00</td>\n",
       "      <td>1045663875.00</td>\n",
       "      <td>1286727750.00</td>\n",
       "    </tr>\n",
       "    <tr>\n",
       "      <th>2</th>\n",
       "      <td>3</td>\n",
       "      <td>Jun 7, 2019</td>\n",
       "      <td>Dark Phoenix</td>\n",
       "      <td>350000000.00</td>\n",
       "      <td>42762350.00</td>\n",
       "      <td>149762350.00</td>\n",
       "      <td>192524700.00</td>\n",
       "    </tr>\n",
       "    <tr>\n",
       "      <th>3</th>\n",
       "      <td>4</td>\n",
       "      <td>May 1, 2015</td>\n",
       "      <td>Avengers: Age of Ultron</td>\n",
       "      <td>330600000.00</td>\n",
       "      <td>459005868.00</td>\n",
       "      <td>1403013963.00</td>\n",
       "      <td>1862019831.00</td>\n",
       "    </tr>\n",
       "    <tr>\n",
       "      <th>4</th>\n",
       "      <td>5</td>\n",
       "      <td>Dec 15, 2017</td>\n",
       "      <td>Star Wars Ep. VIII: The Last Jedi</td>\n",
       "      <td>317000000.00</td>\n",
       "      <td>620181382.00</td>\n",
       "      <td>1316721747.00</td>\n",
       "      <td>1936903129.00</td>\n",
       "    </tr>\n",
       "  </tbody>\n",
       "</table>\n",
       "</div>"
      ],
      "text/plain": [
       "   id  release_date                                        movie  \\\n",
       "0   1  Dec 18, 2009                                       Avatar   \n",
       "1   2  May 20, 2011  Pirates of the Caribbean: On Stranger Tides   \n",
       "2   3   Jun 7, 2019                                 Dark Phoenix   \n",
       "3   4   May 1, 2015                      Avengers: Age of Ultron   \n",
       "4   5  Dec 15, 2017            Star Wars Ep. VIII: The Last Jedi   \n",
       "\n",
       "   production_budget  domestic_gross  worldwide_gross  total_gross_income  \n",
       "0       425000000.00    760507625.00    2776345279.00       3536852904.00  \n",
       "1       410600000.00    241063875.00    1045663875.00       1286727750.00  \n",
       "2       350000000.00     42762350.00     149762350.00        192524700.00  \n",
       "3       330600000.00    459005868.00    1403013963.00       1862019831.00  \n",
       "4       317000000.00    620181382.00    1316721747.00       1936903129.00  "
      ]
     },
     "execution_count": 6,
     "metadata": {},
     "output_type": "execute_result"
    }
   ],
   "source": [
    "# Set pandas display options to prevent scientific notation\n",
    "\n",
    "pd.set_option('display.float_format', '{:.2f}'.format)\n",
    "\n",
    "columns_to_clean = [\"production_budget\", \"domestic_gross\", \"worldwide_gross\"]\n",
    "df_movie_budgets[columns_to_clean] = (\n",
    "    df_movie_budgets[columns_to_clean]\n",
    "    .replace({\"[$,]\": \"\"}, regex=True)\n",
    "    .astype(float)\n",
    ")\n",
    "\n",
    "# Calculate total gross income correctly\n",
    "df_movie_budgets[\"total_gross_income\"] = (\n",
    "    df_movie_budgets[\"domestic_gross\"] + df_movie_budgets[\"worldwide_gross\"]\n",
    ")\n",
    "df_movie_budgets.head()\n"
   ]
  },
  {
   "cell_type": "markdown",
   "metadata": {},
   "source": [
    "### Defining null and alternate hypothesis\n",
    "\n",
    " #### Null Hypotheis(H0)\n",
    " \n",
    " The average total gross income does not increase with increase in production budget\n",
    " \n",
    " #### Alternate Hypotheis(Ha )\n",
    " \n",
    "  The average total gross income increases with increase in production budget\n",
    "  \n",
    " #### Choosing the significance level(α)\n",
    "  \n",
    "  The probability threshold for rejecting my null hypothesis is 5%\n",
    "  \n",
    "  Significance level=5%\n"
   ]
  },
  {
   "cell_type": "code",
   "execution_count": 7,
   "metadata": {},
   "outputs": [
    {
     "data": {
      "image/png": "[encoded data removed]",
      "text/plain": [
       "<Figure size 720x432 with 1 Axes>"
      ]
     },
     "metadata": {
      "needs_background": "light"
     },
     "output_type": "display_data"
    }
   ],
   "source": [
    "\n",
    "# Scatterplot with Seaborn showing correlation between production budget and Total gross income\n",
    "plt.figure(figsize=(10, 6))\n",
    "sns.scatterplot(x='production_budget', y='total_gross_income', data=df_movie_budgets, alpha=0.7)\n",
    "plt.title('Scatterplot of Production Budget vs. Total Gross Income', fontsize=14)\n",
    "plt.xlabel('Production Budget', fontsize=12)\n",
    "plt.ylabel('Total Gross Income', fontsize=12)\n",
    "plt.grid(True)\n",
    "plt.show()"
   ]
  },
  {
   "cell_type": "code",
   "execution_count": 8,
   "metadata": {},
   "outputs": [
    {
     "name": "stdout",
     "output_type": "stream",
     "text": [
      "Correlation coefficient: 0.7399121495609371\n",
      "P-value: 0.0\n"
     ]
    }
   ],
   "source": [
    "from scipy.stats import pearsonr\n",
    "\n",
    "#Calculating the correlation coefficient (𝑟) between production budget and total gross income:\n",
    "\n",
    "r, p_value = pearsonr(df_movie_budgets['production_budget'], df_movie_budgets['total_gross_income'])\n",
    "print(f\"Correlation coefficient: {r}\")\n",
    "print(f\"P-value: {p_value}\")"
   ]
  },
  {
   "cell_type": "code",
   "execution_count": 9,
   "metadata": {},
   "outputs": [
    {
     "name": "stdout",
     "output_type": "stream",
     "text": [
      "                            OLS Regression Results                            \n",
      "==============================================================================\n",
      "Dep. Variable:     total_gross_income   R-squared:                       0.547\n",
      "Model:                            OLS   Adj. R-squared:                  0.547\n",
      "Method:                 Least Squares   F-statistic:                     6993.\n",
      "Date:                Mon, 20 Jan 2025   Prob (F-statistic):               0.00\n",
      "Time:                        09:31:11   Log-Likelihood:            -1.1748e+05\n",
      "No. Observations:                5782   AIC:                         2.350e+05\n",
      "Df Residuals:                    5780   BIC:                         2.350e+05\n",
      "Df Model:                           1                                         \n",
      "Covariance Type:            nonrobust                                         \n",
      "=====================================================================================\n",
      "                        coef    std err          t      P>|t|      [0.025      0.975]\n",
      "-------------------------------------------------------------------------------------\n",
      "const             -7.618e+05   2.66e+06     -0.286      0.775   -5.98e+06    4.45e+06\n",
      "production_budget     4.2460      0.051     83.622      0.000       4.146       4.346\n",
      "==============================================================================\n",
      "Omnibus:                     3978.605   Durbin-Watson:                   0.895\n",
      "Prob(Omnibus):                  0.000   Jarque-Bera (JB):           125596.505\n",
      "Skew:                           2.865   Prob(JB):                         0.00\n",
      "Kurtosis:                      25.102   Cond. No.                     6.57e+07\n",
      "==============================================================================\n",
      "\n",
      "Notes:\n",
      "[1] Standard Errors assume that the covariance matrix of the errors is correctly specified.\n",
      "[2] The condition number is large, 6.57e+07. This might indicate that there are\n",
      "strong multicollinearity or other numerical problems.\n"
     ]
    }
   ],
   "source": [
    "import statsmodels.api as sm\n",
    "\n",
    "# Independent variable (budget)\n",
    "X = df_movie_budgets['production_budget']\n",
    "X = sm.add_constant(X)  # Add constant term for the intercept\n",
    "\n",
    "# Dependent variable (total gross income)\n",
    "y = df_movie_budgets['total_gross_income']\n",
    "\n",
    "# Fit the model\n",
    "model = sm.OLS(y, X).fit()\n",
    "print(model.summary())"
   ]
  },
  {
   "cell_type": "markdown",
   "metadata": {},
   "source": [
    "#### Interpretation of results\n",
    "\n",
    "From the above linear regression regression model, we can conclude that \n",
    "* The value of R-squaredbeing equal to 0.547 means that 54.7% of the data describes the linear model making it suitable for analysis\n",
    "\n",
    "* The p-value is essentially zero(0.00), confirming that the relationship between total gross income and production budget is statistically significant.\n",
    "\n",
    "* From the production budget coefficient of 4.2460,  For every 1 dollar increase in the production budget, the total gross income increases by approximately 4.25 dollars, on average."
   ]
  },
  {
   "cell_type": "code",
   "execution_count": null,
   "metadata": {},
   "outputs": [],
   "source": []
  },
  {
   "cell_type": "code",
   "execution_count": null,
   "metadata": {},
   "outputs": [],
   "source": []
  }
 ],
 "metadata": {
  "kernelspec": {
   "display_name": "Python (learn-env)",
   "language": "python",
   "name": "learn-env"
  },
  "language_info": {
   "codemirror_mode": {
    "name": "ipython",
    "version": 3
   },
   "file_extension": ".py",
   "mimetype": "text/x-python",
   "name": "python",
   "nbconvert_exporter": "python",
   "pygments_lexer": "ipython3",
   "version": "3.8.5"
  }
 },
 "nbformat": 4,
 "nbformat_minor": 4
}
